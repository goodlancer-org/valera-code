{
 "cells": [
  {
   "cell_type": "markdown",
   "id": "501b78b2-89d4-4965-bee6-4c9932b506c6",
   "metadata": {},
   "source": [
    "## System test\n",
    "\n",
    "Let's check if the current user has admin rights or included into the 'video' group"
   ]
  },
  {
   "cell_type": "code",
   "execution_count": 1,
   "id": "e1413ca9-b408-4724-a649-982d5d125b31",
   "metadata": {},
   "outputs": [
    {
     "name": "stdout",
     "output_type": "stream",
     "text": [
      "uid=1000(jovyan) gid=100(users) groups=100(users),0(root),27(sudo),44(video),106(i2c)\n"
     ]
    }
   ],
   "source": [
    "!id"
   ]
  },
  {
   "cell_type": "code",
   "execution_count": 2,
   "id": "2ab1515e-08a0-42a3-a165-643138406684",
   "metadata": {},
   "outputs": [
    {
     "name": "stdout",
     "output_type": "stream",
     "text": [
      "root:x:0:\n",
      "daemon:x:1:\n",
      "bin:x:2:\n",
      "sys:x:3:\n",
      "adm:x:4:\n",
      "tty:x:5:\n",
      "disk:x:6:\n",
      "lp:x:7:\n",
      "mail:x:8:\n",
      "news:x:9:\n",
      "uucp:x:10:\n",
      "man:x:12:\n",
      "proxy:x:13:\n",
      "kmem:x:15:\n",
      "dialout:x:20:\n",
      "fax:x:21:\n",
      "voice:x:22:\n",
      "cdrom:x:24:\n",
      "floppy:x:25:\n",
      "tape:x:26:\n",
      "sudo:x:27:\n",
      "audio:x:29:\n",
      "dip:x:30:\n",
      "www-data:x:33:\n",
      "backup:x:34:\n",
      "operator:x:37:\n",
      "list:x:38:\n",
      "irc:x:39:\n",
      "src:x:40:\n",
      "gnats:x:41:\n",
      "shadow:x:42:\n",
      "utmp:x:43:\n",
      "video:x:44:\n",
      "sasl:x:45:\n",
      "plugdev:x:46:\n",
      "staff:x:50:\n",
      "games:x:60:\n",
      "users:x:100:\n",
      "nogroup:x:65534:\n",
      "_ssh:x:101:\n",
      "input:x:102:\n",
      "sgx:x:103:\n",
      "kvm:x:104:\n",
      "render:x:105:\n",
      "i2c:x:106:\n"
     ]
    }
   ],
   "source": [
    "!cat /etc/group"
   ]
  },
  {
   "cell_type": "markdown",
   "id": "5e8d8a0d-d5d8-4a5e-a17f-3627cb3bcc81",
   "metadata": {},
   "source": [
    "List video devices available for Jupyter"
   ]
  },
  {
   "cell_type": "code",
   "execution_count": 3,
   "id": "b2fd3df4-5618-4572-bede-305f28045908",
   "metadata": {},
   "outputs": [
    {
     "name": "stdout",
     "output_type": "stream",
     "text": [
      "\u001b[0m\u001b[01;33m/dev/video10\u001b[0m  \u001b[01;33m/dev/video15\u001b[0m  \u001b[01;33m/dev/video18\u001b[0m  \u001b[01;33m/dev/video21\u001b[0m\n",
      "\u001b[01;33m/dev/video13\u001b[0m  \u001b[01;33m/dev/video16\u001b[0m  \u001b[01;33m/dev/video19\u001b[0m  \u001b[01;33m/dev/video23\u001b[0m\n",
      "\u001b[01;33m/dev/video14\u001b[0m  \u001b[01;33m/dev/video17\u001b[0m  \u001b[01;33m/dev/video20\u001b[0m  \u001b[01;33m/dev/videosync\u001b[0m\n"
     ]
    }
   ],
   "source": [
    "ls /dev/video*"
   ]
  },
  {
   "cell_type": "markdown",
   "id": "826338af-f474-4844-9aa7-9f05f4c48bb0",
   "metadata": {},
   "source": [
    "## Video test\n",
    "\n",
    "To read camera image the next algorithm can be used:\n",
    "\n",
    "```python\n",
    "# Activate camera object\n",
    "cap = cv2.VideoCapture(0)\n",
    "\n",
    "# Take a picture\n",
    "_, frame = cap.read()\n",
    "\n",
    "# Convert the picture to bytes\n",
    "_, frame = cv2.imencode('.png', frame)\n",
    "frame = frame.tobytes()\n",
    "\n",
    "# Release the camera object\n",
    "cap.release()```\n"
   ]
  },
  {
   "cell_type": "code",
   "execution_count": 6,
   "id": "7bf6e8a2-4f89-4d8c-9119-84fdfc0c7282",
   "metadata": {},
   "outputs": [
    {
     "data": {
      "application/vnd.jupyter.widget-view+json": {
       "model_id": "8f820699f2784063ac7eb2ce2393e497",
       "version_major": 2,
       "version_minor": 0
      },
      "text/html": [
       "Cannot show widget. You probably want to rerun the code cell above (<i>Click in the code cell, and press Shift+Enter <kbd>⇧</kbd>+<kbd>↩</kbd></i>)."
      ],
      "text/plain": [
       "Cannot show ipywidgets in text"
      ]
     },
     "metadata": {},
     "output_type": "display_data"
    }
   ],
   "source": [
    "import solara, cv2\n",
    "from time import sleep\n",
    "\n",
    "@solara.component\n",
    "def Page(): \n",
    "    frame_react = solara.use_reactive(None)\n",
    "    video_running_react = solara.use_reactive(False)\n",
    "    cap_react = solara.use_reactive(None)\n",
    "    \n",
    "    def change_state():\n",
    "        if not video_running_react.value:\n",
    "            cap_react.value = cv2.VideoCapture(0)\n",
    "            video_running_react.value = True\n",
    "        else:\n",
    "            video_running_react.value = False\n",
    "            sleep(1)\n",
    "            frame_react.value = None\n",
    "            cap_react.value.release()\n",
    "            \n",
    "    def show_image():\n",
    "        while True:\n",
    "            if video_running_react.value and cap_react.value is not None:\n",
    "                frame = cv2.flip(cap_react.value.read()[1], 1)\n",
    "                frame_react.value = cv2.imencode('.png', frame)[1].tobytes()\n",
    "    \n",
    "    with solara.Card(title=\"Robot video\"):\n",
    "        solara.Button(\n",
    "            label = 'Stop Video' if video_running_react.value else 'Start Video', \n",
    "                on_click = change_state)\n",
    "        if frame_react.value is not None:\n",
    "            solara.Image(frame_react.value) \n",
    "\n",
    "    solara.use_thread(show_image)\n",
    "\n",
    "Page()"
   ]
  },
  {
   "cell_type": "code",
   "execution_count": 13,
   "id": "81f595de-ce5d-456d-b556-6d6009d2e869",
   "metadata": {},
   "outputs": [
    {
     "ename": "AttributeError",
     "evalue": "module 'gpiod.chip' has no attribute 'open'",
     "output_type": "error",
     "traceback": [
      "\u001b[0;31m---------------------------------------------------------------------------\u001b[0m",
      "\u001b[0;31mAttributeError\u001b[0m                            Traceback (most recent call last)",
      "Cell \u001b[0;32mIn[13], line 2\u001b[0m\n\u001b[1;32m      1\u001b[0m \u001b[38;5;28;01mimport\u001b[39;00m \u001b[38;5;21;01mgpiod\u001b[39;00m\n\u001b[0;32m----> 2\u001b[0m chip \u001b[38;5;241m=\u001b[39m \u001b[43mgpiod\u001b[49m\u001b[38;5;241;43m.\u001b[39;49m\u001b[43mchip\u001b[49m\u001b[38;5;241;43m.\u001b[39;49m\u001b[43mopen\u001b[49m(\u001b[38;5;124m\"\u001b[39m\u001b[38;5;124m/dev/gpiochip0\u001b[39m\u001b[38;5;124m\"\u001b[39m)\n\u001b[1;32m      3\u001b[0m \u001b[38;5;66;03m#chip0 = gpiod.Chip(\"/dev/i2c-0\")\u001b[39;00m\n\u001b[1;32m      4\u001b[0m \u001b[38;5;66;03m#print(chip0)\u001b[39;00m\n\u001b[1;32m      5\u001b[0m \u001b[38;5;66;03m#i2c = chip0.get_i2c_device(0x40)\u001b[39;00m\n\u001b[1;32m      6\u001b[0m \u001b[38;5;66;03m#i2c.transfer([gpiod.Message([0x00] + 500)])\u001b[39;00m\n",
      "\u001b[0;31mAttributeError\u001b[0m: module 'gpiod.chip' has no attribute 'open'"
     ]
    }
   ],
   "source": [
    "import gpiod\n",
    "chip = gpiod.chip.open(\"/dev/gpiochip0\")\n",
    "#chip0 = gpiod.Chip(\"/dev/i2c-0\")\n",
    "#print(chip0)\n",
    "#i2c = chip0.get_i2c_device(0x40)\n",
    "#i2c.transfer([gpiod.Message([0x00] + 500)])"
   ]
  }
 ],
 "metadata": {
  "kernelspec": {
   "display_name": "Python 3 (ipykernel)",
   "language": "python",
   "name": "python3"
  },
  "language_info": {
   "codemirror_mode": {
    "name": "ipython",
    "version": 3
   },
   "file_extension": ".py",
   "mimetype": "text/x-python",
   "name": "python",
   "nbconvert_exporter": "python",
   "pygments_lexer": "ipython3",
   "version": "3.11.6"
  }
 },
 "nbformat": 4,
 "nbformat_minor": 5
}
