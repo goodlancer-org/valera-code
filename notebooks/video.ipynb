{
 "cells": [
  {
   "cell_type": "markdown",
   "id": "501b78b2-89d4-4965-bee6-4c9932b506c6",
   "metadata": {},
   "source": [
    "## System test\n",
    "\n",
    "Let's check if the current user has admin rights or included into the 'video' group"
   ]
  },
  {
   "cell_type": "code",
   "execution_count": 20,
   "id": "e1413ca9-b408-4724-a649-982d5d125b31",
   "metadata": {},
   "outputs": [
    {
     "name": "stdout",
     "output_type": "stream",
     "text": [
      "uid=1000(jovyan) gid=44(video) groups=44(video)\n"
     ]
    }
   ],
   "source": [
    "!id"
   ]
  },
  {
   "cell_type": "markdown",
   "id": "5e8d8a0d-d5d8-4a5e-a17f-3627cb3bcc81",
   "metadata": {},
   "source": [
    "List video devices available for Jupyter"
   ]
  },
  {
   "cell_type": "code",
   "execution_count": 21,
   "id": "b2fd3df4-5618-4572-bede-305f28045908",
   "metadata": {},
   "outputs": [
    {
     "name": "stdout",
     "output_type": "stream",
     "text": [
      "\u001b[0m\u001b[01;33m/dev/video0\u001b[0m   \u001b[01;33m/dev/video14\u001b[0m  \u001b[01;33m/dev/video17\u001b[0m  \u001b[01;33m/dev/video20\u001b[0m  \u001b[01;33m/dev/videosync\u001b[0m\n",
      "\u001b[01;33m/dev/video10\u001b[0m  \u001b[01;33m/dev/video15\u001b[0m  \u001b[01;33m/dev/video18\u001b[0m  \u001b[01;33m/dev/video21\u001b[0m\n",
      "\u001b[01;33m/dev/video13\u001b[0m  \u001b[01;33m/dev/video16\u001b[0m  \u001b[01;33m/dev/video19\u001b[0m  \u001b[01;33m/dev/video23\u001b[0m\n"
     ]
    }
   ],
   "source": [
    "ls /dev/video*"
   ]
  },
  {
   "cell_type": "markdown",
   "id": "826338af-f474-4844-9aa7-9f05f4c48bb0",
   "metadata": {},
   "source": [
    "## Video test\n",
    "\n",
    "The code by \n",
    "Arthur Bauvill - https://abauville.medium.com/display-your-live-webcam-feed-in-a-jupyter-notebook-using-opencv-d01eb75921d1\n",
    "\r\n"
   ]
  },
  {
   "cell_type": "code",
   "execution_count": 22,
   "id": "8f679cbd-2c8b-49e3-b220-9c061e81e3c3",
   "metadata": {},
   "outputs": [
    {
     "data": {
      "application/vnd.jupyter.widget-view+json": {
       "model_id": "5e49cc0f1d4149a6ae344d85ed1e3258",
       "version_major": 2,
       "version_minor": 0
      },
      "text/plain": [
       "ToggleButton(value=False, button_style='danger', description='Stop', icon='square', tooltip='Description')"
      ]
     },
     "metadata": {},
     "output_type": "display_data"
    },
    {
     "name": "stderr",
     "output_type": "stream",
     "text": [
      "[ WARN:12@1164.519] global cap_v4l.cpp:982 open VIDEOIO(V4L2:/dev/video0): can't open camera by index\n",
      "[ERROR:12@1164.520] global obsensor_uvc_stream_channel.cpp:156 getStreamChannelGroup Camera index out of range\n"
     ]
    },
    {
     "data": {
      "text/plain": [
       "None"
      ]
     },
     "metadata": {},
     "output_type": "display_data"
    },
    {
     "name": "stderr",
     "output_type": "stream",
     "text": [
      "Exception in thread Thread-13 (view):\n",
      "Traceback (most recent call last):\n",
      "  File \"/opt/conda/lib/python3.11/threading.py\", line 1038, in _bootstrap_inner\n",
      "    self.run()\n",
      "  File \"/opt/conda/lib/python3.11/threading.py\", line 975, in run\n",
      "    self._target(*self._args, **self._kwargs)\n",
      "  File \"/tmp/ipykernel_281/376157157.py\", line 28, in view\n",
      "cv2.error: OpenCV(4.8.0) /io/opencv/modules/imgcodecs/src/loadsave.cpp:1113: error: (-215:Assertion failed) !image.empty() in function 'imencode'\n",
      "\n"
     ]
    }
   ],
   "source": [
    "import matplotlib.pyplot as plt\n",
    "import cv2\n",
    "import numpy as np\n",
    "from IPython.display import display, Image\n",
    "import ipywidgets as widgets\n",
    "import threading\n",
    "\n",
    "# Stop button\n",
    "# ================\n",
    "stopButton = widgets.ToggleButton(\n",
    "    value=False,\n",
    "    description='Stop',\n",
    "    disabled=False,\n",
    "    button_style='danger', # 'success', 'info', 'warning', 'danger' or ''\n",
    "    tooltip='Description',\n",
    "    icon='square' # (FontAwesome names without the `fa-` prefix)\n",
    ")\n",
    "\n",
    "# Display function\n",
    "# ================\n",
    "def view(button):\n",
    "    cap = cv2.VideoCapture(0)\n",
    "    display_handle=display(None, display_id=True)\n",
    "    i = 0\n",
    "    while True:\n",
    "        _, frame = cap.read()\n",
    "        frame = cv2.flip(frame, 1) # if your camera reverses your image\n",
    "        _, frame = cv2.imencode('.jpeg', frame)\n",
    "        display_handle.update(Image(data=frame.tobytes()))\n",
    "        if stopButton.value==True:\n",
    "            cap.release()\n",
    "            display_handle.update(None)\n",
    "\n",
    "            \n",
    "# Run\n",
    "# ================\n",
    "display(stopButton)\n",
    "thread = threading.Thread(target=view, args=(stopButton,))\n",
    "thread.start()"
   ]
  },
  {
   "cell_type": "code",
   "execution_count": null,
   "id": "d7fbc4e3-127a-4c9b-a34b-017cf94ed713",
   "metadata": {},
   "outputs": [],
   "source": []
  }
 ],
 "metadata": {
  "kernelspec": {
   "display_name": "Python 3 (ipykernel)",
   "language": "python",
   "name": "python3"
  },
  "language_info": {
   "codemirror_mode": {
    "name": "ipython",
    "version": 3
   },
   "file_extension": ".py",
   "mimetype": "text/x-python",
   "name": "python",
   "nbconvert_exporter": "python",
   "pygments_lexer": "ipython3",
   "version": "3.11.5"
  }
 },
 "nbformat": 4,
 "nbformat_minor": 5
}
