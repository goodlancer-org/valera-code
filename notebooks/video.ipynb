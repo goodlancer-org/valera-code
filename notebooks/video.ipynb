{
 "cells": [
  {
   "cell_type": "markdown",
   "id": "501b78b2-89d4-4965-bee6-4c9932b506c6",
   "metadata": {},
   "source": [
    "## System test\n",
    "\n",
    "Let's check if the current user has admin rights or included into the 'video' group"
   ]
  },
  {
   "cell_type": "code",
   "execution_count": 1,
   "id": "e1413ca9-b408-4724-a649-982d5d125b31",
   "metadata": {},
   "outputs": [
    {
     "name": "stdout",
     "output_type": "stream",
     "text": [
      "uid=1000(jovyan) gid=44(video) groups=44(video)\n"
     ]
    }
   ],
   "source": [
    "!id"
   ]
  },
  {
   "cell_type": "markdown",
   "id": "5e8d8a0d-d5d8-4a5e-a17f-3627cb3bcc81",
   "metadata": {},
   "source": [
    "List video devices available for Jupyter"
   ]
  },
  {
   "cell_type": "code",
   "execution_count": 2,
   "id": "b2fd3df4-5618-4572-bede-305f28045908",
   "metadata": {},
   "outputs": [
    {
     "name": "stdout",
     "output_type": "stream",
     "text": [
      "\u001b[0m\u001b[01;33m/dev/video0\u001b[0m   \u001b[01;33m/dev/video14\u001b[0m  \u001b[01;33m/dev/video17\u001b[0m  \u001b[01;33m/dev/video20\u001b[0m  \u001b[01;33m/dev/videosync\u001b[0m\n",
      "\u001b[01;33m/dev/video10\u001b[0m  \u001b[01;33m/dev/video15\u001b[0m  \u001b[01;33m/dev/video18\u001b[0m  \u001b[01;33m/dev/video21\u001b[0m\n",
      "\u001b[01;33m/dev/video13\u001b[0m  \u001b[01;33m/dev/video16\u001b[0m  \u001b[01;33m/dev/video19\u001b[0m  \u001b[01;33m/dev/video23\u001b[0m\n"
     ]
    }
   ],
   "source": [
    "ls /dev/video*"
   ]
  },
  {
   "cell_type": "markdown",
   "id": "826338af-f474-4844-9aa7-9f05f4c48bb0",
   "metadata": {},
   "source": [
    "## Video test\n",
    "\n",
    "To read camera image the next algorithm can be used:\n",
    "\n",
    "```python\n",
    "# Activate camera object\n",
    "cap = cv2.VideoCapture(0)\n",
    "\n",
    "# Take a picture\n",
    "_, frame = cap.read()\n",
    "\n",
    "# Convert the picture to bytes\n",
    "_, frame = cv2.imencode('.png', frame)\n",
    "frame = frame.tobytes()```\n"
   ]
  },
  {
   "cell_type": "code",
   "execution_count": 1,
   "id": "7bf6e8a2-4f89-4d8c-9119-84fdfc0c7282",
   "metadata": {},
   "outputs": [
    {
     "data": {
      "application/vnd.jupyter.widget-view+json": {
       "model_id": "d1cdaaa653bc4c5793611a33a6041f79",
       "version_major": 2,
       "version_minor": 0
      },
      "text/html": [
       "Cannot show widget. You probably want to rerun the code cell above (<i>Click in the code cell, and press Shift+Enter <kbd>⇧</kbd>+<kbd>↩</kbd></i>)."
      ],
      "text/plain": [
       "Cannot show ipywidgets in text"
      ]
     },
     "metadata": {},
     "output_type": "display_data"
    }
   ],
   "source": [
    "import solara, cv2\n",
    "from time import sleep\n",
    "\n",
    "@solara.component\n",
    "def Page(): \n",
    "    frame_react = solara.use_reactive(None)\n",
    "    video_running_react = solara.use_reactive(False)\n",
    "    cap_react = solara.use_reactive(None)\n",
    "    \n",
    "    def change_state():\n",
    "        if not video_running_react.value:\n",
    "            cap_react.value = cv2.VideoCapture(0)\n",
    "            video_running_react.value = True\n",
    "        else:\n",
    "            video_running_react.value = False\n",
    "            sleep(1)\n",
    "            frame_react.value = None\n",
    "            cap_react.value.release()\n",
    "            \n",
    "    def show_image():\n",
    "        while True:\n",
    "            if video_running_react.value and cap_react.value is not None:\n",
    "                frame = cv2.flip(cap_react.value.read()[1], 1)\n",
    "                frame_react.value = cv2.imencode('.png', frame)[1].tobytes()\n",
    "    \n",
    "    with solara.Card(title=\"Robot video\"):\n",
    "        solara.Button(\n",
    "            label = 'Stop Video' if video_running_react.value else 'Start Video', \n",
    "                on_click = change_state)\n",
    "        if frame_react.value is not None:\n",
    "            solara.Image(frame_react.value) \n",
    "\n",
    "    solara.use_thread(show_image)\n",
    "\n",
    "Page()"
   ]
  }
 ],
 "metadata": {
  "kernelspec": {
   "display_name": "Python 3 (ipykernel)",
   "language": "python",
   "name": "python3"
  },
  "language_info": {
   "codemirror_mode": {
    "name": "ipython",
    "version": 3
   },
   "file_extension": ".py",
   "mimetype": "text/x-python",
   "name": "python",
   "nbconvert_exporter": "python",
   "pygments_lexer": "ipython3",
   "version": "3.11.5"
  }
 },
 "nbformat": 4,
 "nbformat_minor": 5
}
