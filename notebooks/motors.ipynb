{
 "cells": [
  {
   "cell_type": "markdown",
   "id": "6249ea30-481f-4214-8748-e90d610b1c09",
   "metadata": {},
   "source": [
    "## System test"
   ]
  },
  {
   "cell_type": "code",
   "execution_count": 2,
   "id": "e09614ba-0063-4a42-b220-d19c27a1e709",
   "metadata": {},
   "outputs": [
    {
     "name": "stdout",
     "output_type": "stream",
     "text": [
      "/dev/i2c-0  /dev/i2c-1\n"
     ]
    }
   ],
   "source": [
    "!ls /dev/i2c*"
   ]
  },
  {
   "cell_type": "code",
   "execution_count": 2,
   "id": "a98573d4-a4d2-4bf3-9bd7-b47808b4c718",
   "metadata": {},
   "outputs": [
    {
     "name": "stdout",
     "output_type": "stream",
     "text": [
      "/dev/gpiochip0\t/dev/gpiochip1\t/dev/gpiomem\n"
     ]
    }
   ],
   "source": [
    "!ls /dev/gpi*"
   ]
  },
  {
   "cell_type": "code",
   "execution_count": 3,
   "id": "fa83d7dd-3cec-4858-a688-2c65642c8f63",
   "metadata": {},
   "outputs": [
    {
     "name": "stdout",
     "output_type": "stream",
     "text": [
      "/dev/amaudio\t\t  /dev/loop150\t/dev/loop27\t\t /dev/ram5\n",
      "/dev/amaudio_ctl\t  /dev/loop151\t/dev/loop28\t\t /dev/ram6\n",
      "/dev/amaudio_utils\t  /dev/loop152\t/dev/loop29\t\t /dev/ram7\n",
      "/dev/amdolby_vision\t  /dev/loop153\t/dev/loop3\t\t /dev/ram8\n",
      "/dev/amhdmitx0\t\t  /dev/loop154\t/dev/loop30\t\t /dev/ram9\n",
      "/dev/amstream_abuf\t  /dev/loop155\t/dev/loop31\t\t /dev/random\n",
      "/dev/amstream_dves_avc\t  /dev/loop156\t/dev/loop32\t\t /dev/rfkill\n",
      "/dev/amstream_dves_hevc   /dev/loop157\t/dev/loop33\t\t /dev/spidev0.0\n",
      "/dev/amstream_hevc\t  /dev/loop158\t/dev/loop34\t\t /dev/stderr\n",
      "/dev/amstream_hevc_frame  /dev/loop159\t/dev/loop35\t\t /dev/stdin\n",
      "/dev/amstream_hevc_sched  /dev/loop16\t/dev/loop36\t\t /dev/stdout\n",
      "/dev/amstream_mpps\t  /dev/loop160\t/dev/loop37\t\t /dev/tty\n",
      "/dev/amstream_mpts\t  /dev/loop161\t/dev/loop38\t\t /dev/tty0\n",
      "/dev/amstream_mpts_sched  /dev/loop162\t/dev/loop39\t\t /dev/tty1\n",
      "/dev/amstream_rm\t  /dev/loop163\t/dev/loop4\t\t /dev/tty10\n",
      "/dev/amstream_sub\t  /dev/loop164\t/dev/loop40\t\t /dev/tty11\n",
      "/dev/amstream_sub_read\t  /dev/loop165\t/dev/loop41\t\t /dev/tty12\n",
      "/dev/amstream_userdata\t  /dev/loop166\t/dev/loop42\t\t /dev/tty13\n",
      "/dev/amstream_vbuf\t  /dev/loop167\t/dev/loop43\t\t /dev/tty14\n",
      "/dev/amstream_vbuf_sched  /dev/loop168\t/dev/loop44\t\t /dev/tty15\n",
      "/dev/amstream_vframe\t  /dev/loop169\t/dev/loop45\t\t /dev/tty16\n",
      "/dev/amsubtitle\t\t  /dev/loop17\t/dev/loop46\t\t /dev/tty17\n",
      "/dev/amvdac\t\t  /dev/loop170\t/dev/loop47\t\t /dev/tty18\n",
      "/dev/amvecm\t\t  /dev/loop171\t/dev/loop48\t\t /dev/tty19\n",
      "/dev/amvideo\t\t  /dev/loop172\t/dev/loop49\t\t /dev/tty2\n",
      "/dev/amvideo_poll\t  /dev/loop173\t/dev/loop5\t\t /dev/tty20\n",
      "/dev/aocec\t\t  /dev/loop174\t/dev/loop50\t\t /dev/tty21\n",
      "/dev/audio_data_debug\t  /dev/loop175\t/dev/loop51\t\t /dev/tty22\n",
      "/dev/audiodsp0\t\t  /dev/loop176\t/dev/loop52\t\t /dev/tty23\n",
      "/dev/autofs\t\t  /dev/loop177\t/dev/loop53\t\t /dev/tty24\n",
      "/dev/btrfs-control\t  /dev/loop178\t/dev/loop54\t\t /dev/tty25\n",
      "/dev/cpu_dma_latency\t  /dev/loop179\t/dev/loop55\t\t /dev/tty26\n",
      "/dev/cuse\t\t  /dev/loop18\t/dev/loop56\t\t /dev/tty27\n",
      "/dev/cvbs\t\t  /dev/loop180\t/dev/loop57\t\t /dev/tty28\n",
      "/dev/di0\t\t  /dev/loop181\t/dev/loop58\t\t /dev/tty29\n",
      "/dev/display\t\t  /dev/loop182\t/dev/loop59\t\t /dev/tty3\n",
      "/dev/display2\t\t  /dev/loop183\t/dev/loop6\t\t /dev/tty30\n",
      "/dev/efuse\t\t  /dev/loop184\t/dev/loop60\t\t /dev/tty31\n",
      "/dev/esm\t\t  /dev/loop185\t/dev/loop61\t\t /dev/tty32\n",
      "/dev/esm_rx\t\t  /dev/loop186\t/dev/loop62\t\t /dev/tty33\n",
      "/dev/fb0\t\t  /dev/loop187\t/dev/loop63\t\t /dev/tty34\n",
      "/dev/fb1\t\t  /dev/loop188\t/dev/loop64\t\t /dev/tty35\n",
      "/dev/fb2\t\t  /dev/loop189\t/dev/loop65\t\t /dev/tty36\n",
      "/dev/fb3\t\t  /dev/loop19\t/dev/loop66\t\t /dev/tty37\n",
      "/dev/firmware_vdec\t  /dev/loop190\t/dev/loop67\t\t /dev/tty38\n",
      "/dev/full\t\t  /dev/loop191\t/dev/loop68\t\t /dev/tty39\n",
      "/dev/fuse\t\t  /dev/loop192\t/dev/loop69\t\t /dev/tty4\n",
      "/dev/gdc\t\t  /dev/loop193\t/dev/loop7\t\t /dev/tty40\n",
      "/dev/ge2d\t\t  /dev/loop194\t/dev/loop70\t\t /dev/tty41\n",
      "/dev/gpiochip0\t\t  /dev/loop195\t/dev/loop71\t\t /dev/tty42\n",
      "/dev/gpiochip1\t\t  /dev/loop196\t/dev/loop72\t\t /dev/tty43\n",
      "/dev/gpiomem\t\t  /dev/loop197\t/dev/loop73\t\t /dev/tty44\n",
      "/dev/hwrng\t\t  /dev/loop198\t/dev/loop74\t\t /dev/tty45\n",
      "/dev/i2c-0\t\t  /dev/loop199\t/dev/loop75\t\t /dev/tty46\n",
      "/dev/i2c-1\t\t  /dev/loop2\t/dev/loop76\t\t /dev/tty47\n",
      "/dev/iio:device0\t  /dev/loop20\t/dev/loop77\t\t /dev/tty48\n",
      "/dev/ion\t\t  /dev/loop200\t/dev/loop78\t\t /dev/tty49\n",
      "/dev/ionvideo\t\t  /dev/loop201\t/dev/loop79\t\t /dev/tty5\n",
      "/dev/kmem\t\t  /dev/loop202\t/dev/loop8\t\t /dev/tty50\n",
      "/dev/kmsg\t\t  /dev/loop203\t/dev/loop80\t\t /dev/tty51\n",
      "/dev/loop0\t\t  /dev/loop204\t/dev/loop81\t\t /dev/tty52\n",
      "/dev/loop1\t\t  /dev/loop205\t/dev/loop82\t\t /dev/tty53\n",
      "/dev/loop10\t\t  /dev/loop206\t/dev/loop83\t\t /dev/tty54\n",
      "/dev/loop100\t\t  /dev/loop207\t/dev/loop84\t\t /dev/tty55\n",
      "/dev/loop101\t\t  /dev/loop208\t/dev/loop85\t\t /dev/tty56\n",
      "/dev/loop102\t\t  /dev/loop209\t/dev/loop86\t\t /dev/tty57\n",
      "/dev/loop103\t\t  /dev/loop21\t/dev/loop87\t\t /dev/tty58\n",
      "/dev/loop104\t\t  /dev/loop210\t/dev/loop88\t\t /dev/tty59\n",
      "/dev/loop105\t\t  /dev/loop211\t/dev/loop89\t\t /dev/tty6\n",
      "/dev/loop106\t\t  /dev/loop212\t/dev/loop9\t\t /dev/tty60\n",
      "/dev/loop107\t\t  /dev/loop213\t/dev/loop90\t\t /dev/tty61\n",
      "/dev/loop108\t\t  /dev/loop214\t/dev/loop91\t\t /dev/tty62\n",
      "/dev/loop109\t\t  /dev/loop215\t/dev/loop92\t\t /dev/tty63\n",
      "/dev/loop11\t\t  /dev/loop216\t/dev/loop93\t\t /dev/tty7\n",
      "/dev/loop110\t\t  /dev/loop217\t/dev/loop94\t\t /dev/tty8\n",
      "/dev/loop111\t\t  /dev/loop218\t/dev/loop95\t\t /dev/tty9\n",
      "/dev/loop112\t\t  /dev/loop219\t/dev/loop96\t\t /dev/ttyS0\n",
      "/dev/loop113\t\t  /dev/loop22\t/dev/loop97\t\t /dev/ttyS1\n",
      "/dev/loop114\t\t  /dev/loop220\t/dev/loop98\t\t /dev/ubi_ctrl\n",
      "/dev/loop115\t\t  /dev/loop221\t/dev/loop99\t\t /dev/uhid\n",
      "/dev/loop116\t\t  /dev/loop222\t/dev/loop-control\t /dev/uinput\n",
      "/dev/loop117\t\t  /dev/loop223\t/dev/mali0\t\t /dev/uio0\n",
      "/dev/loop118\t\t  /dev/loop224\t/dev/media\t\t /dev/urandom\n",
      "/dev/loop119\t\t  /dev/loop225\t/dev/media.amports\t /dev/vad\n",
      "/dev/loop12\t\t  /dev/loop226\t/dev/media.audio\t /dev/vcs\n",
      "/dev/loop120\t\t  /dev/loop227\t/dev/media.codec_mm\t /dev/vcs1\n",
      "/dev/loop121\t\t  /dev/loop228\t/dev/media.decoder\t /dev/vcs2\n",
      "/dev/loop122\t\t  /dev/loop229\t/dev/media.parser\t /dev/vcs3\n",
      "/dev/loop123\t\t  /dev/loop23\t/dev/media.tsync\t /dev/vcs4\n",
      "/dev/loop124\t\t  /dev/loop230\t/dev/media.vfm\t\t /dev/vcs5\n",
      "/dev/loop125\t\t  /dev/loop231\t/dev/media.video\t /dev/vcs6\n",
      "/dev/loop126\t\t  /dev/loop232\t/dev/mem\t\t /dev/vcs7\n",
      "/dev/loop127\t\t  /dev/loop233\t/dev/memory_bandwidth\t /dev/vcsa\n",
      "/dev/loop128\t\t  /dev/loop234\t/dev/mmcblk0\t\t /dev/vcsa1\n",
      "/dev/loop129\t\t  /dev/loop235\t/dev/mmcblk0boot0\t /dev/vcsa2\n",
      "/dev/loop13\t\t  /dev/loop236\t/dev/mmcblk0boot1\t /dev/vcsa3\n",
      "/dev/loop130\t\t  /dev/loop237\t/dev/mmcblk0p1\t\t /dev/vcsa4\n",
      "/dev/loop131\t\t  /dev/loop238\t/dev/mmcblk0p2\t\t /dev/vcsa5\n",
      "/dev/loop132\t\t  /dev/loop239\t/dev/mmcblk0rpmb\t /dev/vcsa6\n",
      "/dev/loop133\t\t  /dev/loop24\t/dev/network_latency\t /dev/vcsa7\n",
      "/dev/loop134\t\t  /dev/loop240\t/dev/network_throughput  /dev/vfm\n",
      "/dev/loop135\t\t  /dev/loop241\t/dev/null\t\t /dev/vhci\n",
      "/dev/loop136\t\t  /dev/loop242\t/dev/port\t\t /dev/video10\n",
      "/dev/loop137\t\t  /dev/loop243\t/dev/ppmgr\t\t /dev/video13\n",
      "/dev/loop138\t\t  /dev/loop244\t/dev/ppp\t\t /dev/video14\n",
      "/dev/loop139\t\t  /dev/loop245\t/dev/psaux\t\t /dev/video15\n",
      "/dev/loop14\t\t  /dev/loop246\t/dev/ptmx\t\t /dev/video16\n",
      "/dev/loop140\t\t  /dev/loop247\t/dev/ram0\t\t /dev/video17\n",
      "/dev/loop141\t\t  /dev/loop248\t/dev/ram1\t\t /dev/video18\n",
      "/dev/loop142\t\t  /dev/loop249\t/dev/ram10\t\t /dev/video19\n",
      "/dev/loop143\t\t  /dev/loop25\t/dev/ram11\t\t /dev/video20\n",
      "/dev/loop144\t\t  /dev/loop250\t/dev/ram12\t\t /dev/video21\n",
      "/dev/loop145\t\t  /dev/loop251\t/dev/ram13\t\t /dev/video23\n",
      "/dev/loop146\t\t  /dev/loop252\t/dev/ram14\t\t /dev/videosync\n",
      "/dev/loop147\t\t  /dev/loop253\t/dev/ram15\t\t /dev/watchdog\n",
      "/dev/loop148\t\t  /dev/loop254\t/dev/ram2\t\t /dev/watchdog0\n",
      "/dev/loop149\t\t  /dev/loop255\t/dev/ram3\t\t /dev/zero\n",
      "/dev/loop15\t\t  /dev/loop26\t/dev/ram4\n",
      "\n",
      "/dev/bus:\n",
      "usb\n",
      "\n",
      "/dev/fd:\n",
      "0  1  2  3\n",
      "\n",
      "/dev/input:\n",
      "event0\tmice\n",
      "\n",
      "/dev/mapper:\n",
      "control\n",
      "\n",
      "/dev/mqueue:\n",
      "\n",
      "/dev/net:\n",
      "tun\n",
      "\n",
      "/dev/pts:\n",
      "0  ptmx\n",
      "\n",
      "/dev/shm:\n",
      "\n",
      "/dev/snd:\n",
      "controlC0  pcmC0D0p  pcmC0D1c  pcmC0D1p  pcmC0D2p  seq\ttimer\n"
     ]
    }
   ],
   "source": [
    "!ls /dev/*"
   ]
  },
  {
   "cell_type": "code",
   "execution_count": 2,
   "id": "8518353a-7a7d-4cf2-9ed5-ee4b91387777",
   "metadata": {},
   "outputs": [
    {
     "name": "stdout",
     "output_type": "stream",
     "text": [
      "gpioinfo (libgpiod) v1.6.3\n",
      "Copyright (C) 2017-2018 Bartosz Golaszewski\n",
      "License: LGPLv2.1\n",
      "This is free software: you are free to change and redistribute it.\n",
      "There is NO WARRANTY, to the extent permitted by law.\n"
     ]
    }
   ],
   "source": [
    "!gpioinfo --version"
   ]
  },
  {
   "cell_type": "code",
   "execution_count": 3,
   "id": "4644b6bd-0b44-4424-91bc-232c48852596",
   "metadata": {},
   "outputs": [
    {
     "name": "stdout",
     "output_type": "stream",
     "text": [
      "gpiochip0 [aobus-banks] (16 lines)\n",
      "gpiochip1 [periphs-banks] (86 lines)\n"
     ]
    }
   ],
   "source": [
    "!sudo gpiodetect"
   ]
  },
  {
   "cell_type": "code",
   "execution_count": 12,
   "id": "923e8655-7739-4f66-94c9-02dbfb7fc627",
   "metadata": {},
   "outputs": [
    {
     "name": "stdout",
     "output_type": "stream",
     "text": [
      "     0  1  2  3  4  5  6  7  8  9  a  b  c  d  e  f\n",
      "00:                         -- -- -- -- -- -- -- -- \n",
      "10: -- -- -- -- -- -- -- -- -- -- -- -- -- -- -- -- \n",
      "20: -- -- -- -- -- -- -- -- -- -- -- -- -- -- -- -- \n",
      "30: -- -- -- -- -- -- -- -- -- -- -- -- -- -- -- -- \n",
      "40: 40 -- -- -- -- -- -- -- -- -- -- -- -- -- -- -- \n",
      "50: -- -- -- -- -- -- -- -- -- -- -- -- -- -- -- -- \n",
      "60: -- -- -- -- -- -- -- -- -- -- -- -- -- -- -- -- \n",
      "70: 70 -- -- -- -- -- -- --                         \n"
     ]
    }
   ],
   "source": [
    "!sudo i2cdetect -y 0"
   ]
  },
  {
   "cell_type": "code",
   "execution_count": 7,
   "id": "23867bcb-6744-4671-bdbe-73e0b9716ec6",
   "metadata": {},
   "outputs": [
    {
     "name": "stdout",
     "output_type": "stream",
     "text": [
      "gpiochip0 - 16 lines:\n",
      "\tline   0:      unnamed       unused   input  active-high \n",
      "\tline   1:      unnamed       unused   input  active-high \n",
      "\tline   2:      unnamed  \"line_mute\"  output  active-high [used]\n",
      "\tline   3:      unnamed       unused   input  active-high \n",
      "\tline   4:      unnamed       unused   input  active-high \n",
      "\tline   5:      unnamed       unused   input  active-high \n",
      "\tline   6:      unnamed       unused   input  active-high \n",
      "\tline   7:      unnamed       unused   input  active-high \n",
      "\tline   8:      unnamed       unused   input  active-high \n",
      "\tline   9:      unnamed      \"amlsd\"  output  active-high [used]\n",
      "\tline  10:      unnamed        \"pwm\"  output  active-high [used]\n",
      "\tline  11:      unnamed          \"?\"  output  active-high [used]\n",
      "\tline  12:      unnamed       unused   input  active-high \n",
      "\tline  13:      unnamed       unused   input  active-high \n",
      "\tline  14:      unnamed       unused   input  active-high \n",
      "\tline  15:      unnamed       unused   input  active-high \n",
      "gpiochip1 - 86 lines:\n",
      "\tline   0:      unnamed       unused   input  active-high \n",
      "\tline   1:      unnamed       unused   input  active-high \n",
      "\tline   2:      unnamed       unused   input  active-high \n",
      "\tline   3:      unnamed       unused   input  active-high \n",
      "\tline   4:      unnamed       unused   input  active-high \n",
      "\tline   5:      unnamed       unused   input  active-high \n",
      "\tline   6:      unnamed       unused   input  active-high \n",
      "\tline   7:      unnamed       unused   input  active-high \n",
      "\tline   8:      unnamed       unused   input  active-high \n",
      "\tline   9:      unnamed       unused   input  active-high \n",
      "\tline  10:      unnamed       unused   input  active-high \n",
      "\tline  11:      unnamed       unused   input  active-high \n",
      "\tline  12:      unnamed       unused   input  active-high \n",
      "\tline  13:      unnamed       unused   input  active-high \n",
      "\tline  14:      unnamed       unused   input  active-high \n",
      "\tline  15:      unnamed       unused   input  active-high \n",
      "\tline  16:      unnamed       unused   input  active-high \n",
      "\tline  17:      unnamed       unused   input  active-high \n",
      "\tline  18:      unnamed       unused   input  active-high \n",
      "\tline  19:      unnamed       unused   input  active-high \n",
      "\tline  20:      unnamed       unused   input  active-high \n",
      "\tline  21:      unnamed       unused   input  active-high \n",
      "\tline  22:      unnamed       unused   input  active-high \n",
      "\tline  23:      unnamed \"ffe09080.usb3phy\" output active-high [used]\n",
      "\tline  24:      unnamed       unused   input  active-high \n",
      "\tline  25:      unnamed       unused   input  active-high \n",
      "\tline  26:      unnamed       unused   input  active-high \n",
      "\tline  27:      unnamed       unused   input  active-high \n",
      "\tline  28:      unnamed       unused   input  active-high \n",
      "\tline  29:      unnamed       unused  output  active-high \n",
      "\tline  30:      unnamed       unused   input  active-high \n",
      "\tline  31:      unnamed       unused   input  active-high \n",
      "\tline  32:      unnamed       unused   input  active-high \n",
      "\tline  33:      unnamed       unused   input  active-high \n",
      "\tline  34:      unnamed       unused   input  active-high \n",
      "\tline  35:      unnamed       unused   input  active-high \n",
      "\tline  36:      unnamed       unused   input  active-high \n",
      "\tline  37:      unnamed       unused   input  active-high \n",
      "\tline  38:      unnamed      \"amlsd\"  output  active-high [used]\n",
      "\tline  39:      unnamed       unused   input  active-high \n",
      "\tline  40:      unnamed       unused   input  active-high \n",
      "\tline  41:      unnamed       unused   input  active-high \n",
      "\tline  42:      unnamed       unused   input  active-high \n",
      "\tline  43:      unnamed       unused   input  active-high \n",
      "\tline  44:      unnamed       unused   input  active-high \n",
      "\tline  45:      unnamed       unused   input  active-high \n",
      "\tline  46:      unnamed       unused   input  active-high \n",
      "\tline  47:      unnamed       unused   input  active-high \n",
      "\tline  48:      unnamed      \"amlsd\"   input  active-high [used]\n",
      "\tline  49:      unnamed       unused   input  active-high \n",
      "\tline  50:      unnamed       unused   input  active-high \n",
      "\tline  51:      unnamed       unused   input  active-high \n",
      "\tline  52:      unnamed       unused   input  active-high \n",
      "\tline  53:      unnamed       unused   input  active-high \n",
      "\tline  54:      unnamed       unused   input  active-high \n",
      "\tline  55:      unnamed       unused   input  active-high \n",
      "\tline  56:      unnamed       unused   input  active-high \n",
      "\tline  57:      unnamed       unused   input  active-high \n",
      "\tline  58:      unnamed       unused   input  active-high \n",
      "\tline  59:      unnamed       unused   input  active-high \n",
      "\tline  60:      unnamed       unused   input  active-high \n",
      "\tline  61:      unnamed       unused   input  active-high \n",
      "\tline  62:      unnamed       unused   input  active-high \n",
      "\tline  63:      unnamed       unused   input  active-high \n",
      "\tline  64:      unnamed       unused   input  active-high \n",
      "\tline  65:      unnamed       unused   input  active-high \n",
      "\tline  66:      unnamed       unused   input  active-high \n",
      "\tline  67:      unnamed       unused   input  active-high \n",
      "\tline  68:      unnamed       unused   input  active-high \n",
      "\tline  69:      unnamed       unused   input  active-high \n",
      "\tline  70:      unnamed       unused   input  active-high \n",
      "\tline  71:      unnamed       unused   input  active-high \n",
      "\tline  72:      unnamed       unused   input  active-high \n",
      "\tline  73:      unnamed       unused   input  active-high \n",
      "\tline  74:      unnamed       unused   input  active-high \n",
      "\tline  75:      unnamed       unused   input  active-high \n",
      "\tline  76:      unnamed     \"spi0.0\"  output  active-high [used]\n",
      "\tline  77:      unnamed       unused   input  active-high \n",
      "\tline  78:      unnamed       unused   input  active-high \n",
      "\tline  79:      unnamed       unused   input  active-high \n",
      "\tline  80:      unnamed       unused   input  active-high \n",
      "\tline  81:      unnamed       unused   input  active-high \n",
      "\tline  82:      unnamed       unused   input  active-high \n",
      "\tline  83:      unnamed       unused   input  active-high \n",
      "\tline  84:      unnamed       unused   input  active-high \n",
      "\tline  85:      unnamed       unused   input  active-high \n"
     ]
    }
   ],
   "source": [
    "!sudo gpioinfo"
   ]
  },
  {
   "cell_type": "markdown",
   "id": "934e69cc-3c9d-41f4-a64b-77d87fabc660",
   "metadata": {},
   "source": [
    "## Manage motors via code"
   ]
  },
  {
   "cell_type": "code",
   "execution_count": 2,
   "id": "148f4d04-357a-4c77-a494-1b9543958b7b",
   "metadata": {},
   "outputs": [
    {
     "name": "stdout",
     "output_type": "stream",
     "text": [
      "<Chip path=\"/dev/gpiochip0\" fd=56 info=<ChipInfo name=\"gpiochip0\" label=\"aobus-banks\" num_lines=16>>\n"
     ]
    }
   ],
   "source": [
    "import gpiod\n",
    "\n",
    "chip0 = gpiod.Chip(\"/dev/gpiochip0\")\n",
    "print(chip0)"
   ]
  },
  {
   "cell_type": "code",
   "execution_count": 1,
   "id": "4093411e-2a2e-449e-b1f7-b13c1c9b9ab4",
   "metadata": {},
   "outputs": [
    {
     "data": {
      "text/plain": [
       "'jovyan'"
      ]
     },
     "execution_count": 1,
     "metadata": {},
     "output_type": "execute_result"
    }
   ],
   "source": [
    "import os\n",
    "import pwd\n",
    "\n",
    "pwd.getpwuid(os.getuid())[0]"
   ]
  },
  {
   "cell_type": "code",
   "execution_count": 44,
   "id": "253b7430-6171-4cc6-88b7-ae25bdde32ba",
   "metadata": {},
   "outputs": [],
   "source": [
    "import logging, time, math\n",
    "from smbus2 import SMBus\n",
    "\n",
    "SMBUS_INTERFACE = 0\n",
    "FREQUENCY = 50\n",
    "\n",
    "# Registers/etc:\n",
    "PCA9685_ADDRESS    = 0x40\n",
    "MODE1              = 0x00\n",
    "MODE2              = 0x01\n",
    "SUBADR1            = 0x02\n",
    "SUBADR2            = 0x03\n",
    "SUBADR3            = 0x04\n",
    "PRESCALE           = 0xFE\n",
    "LED0_ON_L          = 0x06\n",
    "LED0_ON_H          = 0x07\n",
    "LED0_OFF_L         = 0x08\n",
    "LED0_OFF_H         = 0x09\n",
    "ALL_LED_ON_L       = 0xFA\n",
    "ALL_LED_ON_H       = 0xFB\n",
    "ALL_LED_OFF_L      = 0xFC\n",
    "ALL_LED_OFF_H      = 0xFD\n",
    "\n",
    "# Bits:\n",
    "RESTART            = 0x80\n",
    "SLEEP              = 0x10\n",
    "ALLCALL            = 0x01\n",
    "INVRT              = 0x10\n",
    "OUTDRV             = 0x04\n",
    "\n",
    "\n",
    "logger = logging.getLogger(__name__)\n",
    "\n",
    "class PCA9685(object):\n",
    "    \"\"\"PCA9685 PWM LED/servo controller.\"\"\"\n",
    "\n",
    "    def __init__(self, freq_hz=FREQUENCY, interface=SMBUS_INTERFACE, address=PCA9685_ADDRESS):\n",
    "        \"\"\"\n",
    "        Initialize the PCA9685 chip at the provided address on the specified I2C bus number.\n",
    "        The default address is 0x40 and the default bus is 0.\n",
    "\n",
    "        Args:\n",
    "            freq_hz (int): The frequency of PWM signal for the servo (default 50Hz)\n",
    "            interface (int): The I2C bus number to use (default 0)\n",
    "            address (int): The I2C address of the PCA9685 chip (default 0x40)\n",
    "        \"\"\"\n",
    "        self.interface = interface\n",
    "        self.address = address\n",
    "\n",
    "        self.set_all_pwm(0, 0)\n",
    "        with SMBus(self.interface) as bus:\n",
    "            bus.write_byte_data(self.address, MODE2, OUTDRV)\n",
    "            bus.write_byte_data(self.address, MODE1, ALLCALL)\n",
    "            time.sleep(0.005) # wait for oscillator\n",
    "            mode1 = bus.read_byte_data(self.address, MODE1)\n",
    "            mode1 = mode1 & ~SLEEP # wake up (reset sleep)\n",
    "            bus.write_byte_data(self.address, MODE1, mode1)\n",
    "            time.sleep(0.005) # wait for oscillator\n",
    "\n",
    "        \"\"\"\n",
    "        Set the PWM frequency of the PCA9685 module.\n",
    "        freq_hz (float): The desired frequency in Hz. Valid from 24 Hz to 1526 Hz.\n",
    "        \"\"\"\n",
    "        prescaleval = 25000000.0    # 25MHz\n",
    "        prescaleval /= 4096.0       # 12-bit\n",
    "        prescaleval /= float(freq_hz)\n",
    "        prescaleval -= 1.0\n",
    "        logger.debug('Setting PWM frequency to {0} Hz'.format(freq_hz))\n",
    "        logger.debug('Estimated pre-scale: {0}'.format(prescaleval))\n",
    "        prescale = int(math.floor(prescaleval + 0.5))\n",
    "        logger.debug('Final pre-scale: {0}'.format(prescale))\n",
    "        with SMBus(self.interface) as bus:\n",
    "            oldmode = bus.read_byte_data(self.address, MODE1)\n",
    "            newmode = (oldmode & 0x7F) | 0x10    # sleep\n",
    "            bus.write_byte_data(self.address, MODE1, newmode)  # go to sleep\n",
    "            bus.write_byte_data(self.address, PRESCALE, prescale)\n",
    "            bus.write_byte_data(self.address, MODE1, oldmode)\n",
    "            time.sleep(0.005)\n",
    "            bus.write_byte_data(self.address, MODE1, oldmode | 0x80)\n",
    "\n",
    "    def set_pwm(self, channel, on, off):\n",
    "            \"\"\"\n",
    "            Sets the on and off time for a specific channel on the PCA9685 PWM controller.\n",
    "            \n",
    "            Args:\n",
    "                channel (int): The channel number to set the on and off time for.\n",
    "                on (int): The value for the on time of the PWM signal.\n",
    "                off (int): The value for the off time of the PWM signal.\n",
    "            \"\"\"\n",
    "            with SMBus(self.interface) as bus:\n",
    "                bus.write_byte_data(self.address, LED0_ON_L+4*channel, on & 0xFF)\n",
    "                bus.write_byte_data(self.address, LED0_ON_H+4*channel, on >> 8)\n",
    "                bus.write_byte_data(self.address, LED0_OFF_L+4*channel, off & 0xFF)\n",
    "                bus.write_byte_data(self.address, LED0_OFF_H+4*channel, off >> 8)\n",
    "\n",
    "    def set_all_pwm(self, on, off):\n",
    "            \"\"\"\n",
    "            Sets the on and off values for all channels of the PCA9685 PWM controller.\n",
    "            \n",
    "            Args:\n",
    "                on (int): The value to set the on time for all channels.\n",
    "                off (int): The value to set the off time for all channels.\n",
    "            \"\"\"\n",
    "            with SMBus(self.interface) as bus:\n",
    "                bus.write_byte_data(self.address, ALL_LED_ON_L, on & 0xFF)\n",
    "                bus.write_byte_data(self.address, ALL_LED_ON_H, on >> 8)\n",
    "                bus.write_byte_data(self.address, ALL_LED_OFF_L, off & 0xFF)\n",
    "                bus.write_byte_data(self.address, ALL_LED_OFF_H, off >> 8)\n",
    "\n",
    "    def software_reset(self):\n",
    "        \"\"\"Sends a software reset (SWRST) command to all servo drivers on the bus.\"\"\"\n",
    "        #self._device.writeRaw8(0x06)\n",
    "        with SMBus(self.interface) as bus:\n",
    "            bus.write_byte_data(self.address, 0x06, 0x00)"
   ]
  },
  {
   "cell_type": "code",
   "execution_count": 47,
   "id": "951bb49f-d3d9-4045-a1ef-2943c7bee114",
   "metadata": {},
   "outputs": [],
   "source": [
    "pwm = PCA9685(50) # defaults to using frequency 50 Hz, i2c-0 and address 0x40\n",
    "pwm.set_pwm(1, 0, 512) # channel 0, on time 0?, off time 102-512 (1 ms)"
   ]
  }
 ],
 "metadata": {
  "kernelspec": {
   "display_name": "Python 3 (ipykernel)",
   "language": "python",
   "name": "python3"
  },
  "language_info": {
   "codemirror_mode": {
    "name": "ipython",
    "version": 3
   },
   "file_extension": ".py",
   "mimetype": "text/x-python",
   "name": "python",
   "nbconvert_exporter": "python",
   "pygments_lexer": "ipython3",
   "version": "3.11.6"
  }
 },
 "nbformat": 4,
 "nbformat_minor": 5
}
